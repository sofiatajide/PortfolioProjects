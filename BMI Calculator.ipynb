{
 "cells": [
  {
   "cell_type": "markdown",
   "id": "1cbfc1f8",
   "metadata": {},
   "source": [
    "BMI Calculator\n"
   ]
  },
  {
   "cell_type": "code",
   "execution_count": null,
   "id": "ce1deeb5",
   "metadata": {},
   "outputs": [],
   "source": [
    "name = input(\"Enter your name: \")\n",
    "\n",
    "weight = int(input(\"Enter your weight in pounds: \"))\n",
    "\n",
    "height = int(input(\"Enter your height in inches: \"))\n",
    "\n",
    "BMI = (weight * 703) / (height* height)\n",
    "\n",
    "print(BMI)\n",
    "\n",
    "if BMI>0:\n",
    "    if(BMI<18.5):\n",
    "        print(name +\", You are underweight.\")\n",
    "    elif(BMI<=24.9):\n",
    "        print(name +\", You are normal weight.\")\n",
    "    elif(BMI<29.9):\n",
    "        print(name +\", You are overweight. You need to exercise more and stop eating ice cream\")\n",
    "    elif(BMI<34.9):\n",
    "        print(name +\", You are obese.\")\n",
    "    elif(BMI<39.9):\n",
    "        print(name +\", You are severely obese.\")\n",
    "    else:\n",
    "        print(name +\", You are morbidly obese.\")\n",
    "else:\n",
    "    print(\"Enter valid input\")"
   ]
  },
  {
   "cell_type": "code",
   "execution_count": null,
   "id": "3520efbd",
   "metadata": {},
   "outputs": [],
   "source": []
  },
  {
   "cell_type": "code",
   "execution_count": null,
   "id": "8036e71f",
   "metadata": {},
   "outputs": [],
   "source": []
  },
  {
   "cell_type": "code",
   "execution_count": null,
   "id": "c0f78807",
   "metadata": {},
   "outputs": [],
   "source": [
    "#BMI = (weight in pounds * 703) / (height in inches * height in inches)"
   ]
  },
  {
   "cell_type": "markdown",
   "id": "a4a0e1d0",
   "metadata": {},
   "source": [
    "Under 18.5\tUnderweight\t Minimal\n",
    "18.5 - 24.9\tNormal Weight\tMinimal\n",
    "25 - 29.9\tOverweight\tIncreased\n",
    "30 - 34.9\tObese\tHigh\n",
    "35 - 39.9\tSeverely Obese\tVery High\n",
    "40 and over\tMorbidly Obese\tExtremely High"
   ]
  },
  {
   "cell_type": "code",
   "execution_count": null,
   "id": "65a06e3d",
   "metadata": {},
   "outputs": [],
   "source": []
  },
  {
   "cell_type": "code",
   "execution_count": null,
   "id": "91217b01",
   "metadata": {},
   "outputs": [],
   "source": []
  },
  {
   "cell_type": "code",
   "execution_count": null,
   "id": "ccf16e75",
   "metadata": {},
   "outputs": [],
   "source": []
  },
  {
   "cell_type": "code",
   "execution_count": null,
   "id": "0cc4b7f0",
   "metadata": {},
   "outputs": [],
   "source": []
  }
 ],
 "metadata": {
  "kernelspec": {
   "display_name": "Python 3 (ipykernel)",
   "language": "python",
   "name": "python3"
  },
  "language_info": {
   "codemirror_mode": {
    "name": "ipython",
    "version": 3
   },
   "file_extension": ".py",
   "mimetype": "text/x-python",
   "name": "python",
   "nbconvert_exporter": "python",
   "pygments_lexer": "ipython3",
   "version": "3.9.13"
  }
 },
 "nbformat": 4,
 "nbformat_minor": 5
}
