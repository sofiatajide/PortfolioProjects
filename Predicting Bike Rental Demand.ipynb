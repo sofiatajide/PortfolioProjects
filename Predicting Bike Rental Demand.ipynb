{
 "cells": [
  {
   "cell_type": "code",
   "execution_count": 1,
   "id": "04dfe981",
   "metadata": {},
   "outputs": [],
   "source": [
    "import pandas as pd\n",
    "from sklearn.linear_model import LinearRegression\n",
    "from sklearn.model_selection import train_test_split\n",
    "from sklearn.metrics import r2_score"
   ]
  },
  {
   "cell_type": "code",
   "execution_count": 2,
   "id": "1bb0395a",
   "metadata": {},
   "outputs": [],
   "source": [
    "# Load the dataset\n",
    "df = pd.read_csv('/Users/sofiatajide/Downloads/Bike-Sharing-Dataset/day.csv')"
   ]
  },
  {
   "cell_type": "code",
   "execution_count": null,
   "id": "6cb7204a",
   "metadata": {},
   "outputs": [],
   "source": []
  },
  {
   "cell_type": "code",
   "execution_count": 3,
   "id": "a6a0facc",
   "metadata": {},
   "outputs": [],
   "source": [
    "# Define the independent variables\n",
    "X = df[['season', 'temp', 'hum', 'windspeed', 'weathersit']]\n",
    "\n",
    "# Define the dependent variable\n",
    "y = df['cnt']"
   ]
  },
  {
   "cell_type": "code",
   "execution_count": 4,
   "id": "95a29595",
   "metadata": {},
   "outputs": [],
   "source": [
    "# Split the data into training and testing sets\n",
    "X_train, X_test, y_train, y_test = train_test_split(X, y, test_size=0.2, random_state=42)"
   ]
  },
  {
   "cell_type": "code",
   "execution_count": 5,
   "id": "48f55c2d",
   "metadata": {},
   "outputs": [
    {
     "data": {
      "text/plain": [
       "LinearRegression()"
      ]
     },
     "execution_count": 5,
     "metadata": {},
     "output_type": "execute_result"
    }
   ],
   "source": [
    "# Fit the linear regression model on the training data\n",
    "model = LinearRegression()\n",
    "model.fit(X_train, y_train)"
   ]
  },
  {
   "cell_type": "code",
   "execution_count": 6,
   "id": "dfdd1c28",
   "metadata": {},
   "outputs": [],
   "source": [
    "# Make predictions on the testing data\n",
    "y_pred = model.predict(X_test)"
   ]
  },
  {
   "cell_type": "code",
   "execution_count": 7,
   "id": "80023606",
   "metadata": {},
   "outputs": [
    {
     "name": "stdout",
     "output_type": "stream",
     "text": [
      "R-squared: 0.5409147642180705\n"
     ]
    }
   ],
   "source": [
    "# Evaluate the performance of the model using R-squared\n",
    "r2 = r2_score(y_test, y_pred)\n",
    "print('R-squared:', r2)"
   ]
  },
  {
   "cell_type": "code",
   "execution_count": 8,
   "id": "25e73d27",
   "metadata": {},
   "outputs": [
    {
     "data": {
      "text/plain": [
       "LinearRegression()"
      ]
     },
     "execution_count": 8,
     "metadata": {},
     "output_type": "execute_result"
    }
   ],
   "source": [
    "# Fit the linear regression model on the entire dataset\n",
    "model = LinearRegression()\n",
    "model.fit(X, y)"
   ]
  },
  {
   "cell_type": "code",
   "execution_count": 11,
   "id": "0f0142d2",
   "metadata": {},
   "outputs": [
    {
     "name": "stdout",
     "output_type": "stream",
     "text": [
      "Predicted bike rental demand: 4207.193420787011\n"
     ]
    }
   ],
   "source": [
    "import pandas as pd\n",
    "from sklearn.linear_model import LinearRegression\n",
    "\n",
    "# Load the dataset from a CSV file\n",
    "df = pd.read_csv('/Users/sofiatajide/Downloads/Bike-Sharing-Dataset/day.csv')\n",
    "\n",
    "# Define the independent variables with column names\n",
    "X = pd.DataFrame(data=df, columns=['season', 'temp', 'hum', 'windspeed', 'weathersit'])\n",
    "\n",
    "# Define the dependent variable\n",
    "y = df['cnt']\n",
    "\n",
    "# Fit the linear regression model on the entire dataset\n",
    "model = LinearRegression()\n",
    "model.fit(X, y)\n",
    "\n",
    "# Predict bike rental demand for a future date\n",
    "future_date = pd.DataFrame([[2, 0.5, 0.6, 0.3, 1]], columns=['season', 'temp', 'hum', 'windspeed', 'weathersit'])\n",
    "future_demand = model.predict(future_date)\n",
    "print('Predicted bike rental demand:', future_demand[0])\n"
   ]
  },
  {
   "cell_type": "code",
   "execution_count": null,
   "id": "8ffc5dee",
   "metadata": {},
   "outputs": [],
   "source": []
  },
  {
   "cell_type": "markdown",
   "id": "c0eebf25",
   "metadata": {},
   "source": [
    "The predicted bike rental demand of 4207.193420787011 is specific to the input features provided in  future_date DataFrame. These values correspond to a season of 2 (spring), a temperature of 0.5 (normalized), a humidity of 0.6 (normalized), a windspeed of 0.3 (normalized), and a weathersit of 1 (clear or partly cloudy).\n",
    "\n",
    "It's important to keep in mind that this is just a single prediction based on a specific set of input features. The actual bike rental demand for this future date may be different due to various external factors that could influence demand. However, this prediction can still provide valuable insights and help inform business decisions."
   ]
  },
  {
   "cell_type": "code",
   "execution_count": null,
   "id": "2d96e1c7",
   "metadata": {},
   "outputs": [],
   "source": []
  },
  {
   "cell_type": "code",
   "execution_count": null,
   "id": "b51761fd",
   "metadata": {},
   "outputs": [],
   "source": []
  },
  {
   "cell_type": "code",
   "execution_count": null,
   "id": "243ede63",
   "metadata": {},
   "outputs": [],
   "source": []
  },
  {
   "cell_type": "code",
   "execution_count": null,
   "id": "bec7fe78",
   "metadata": {},
   "outputs": [],
   "source": []
  }
 ],
 "metadata": {
  "kernelspec": {
   "display_name": "Python 3 (ipykernel)",
   "language": "python",
   "name": "python3"
  },
  "language_info": {
   "codemirror_mode": {
    "name": "ipython",
    "version": 3
   },
   "file_extension": ".py",
   "mimetype": "text/x-python",
   "name": "python",
   "nbconvert_exporter": "python",
   "pygments_lexer": "ipython3",
   "version": "3.9.13"
  }
 },
 "nbformat": 4,
 "nbformat_minor": 5
}
